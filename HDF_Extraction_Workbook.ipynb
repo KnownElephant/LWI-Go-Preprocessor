{
 "cells": [
  {
   "cell_type": "code",
   "execution_count": 1,
   "metadata": {},
   "outputs": [],
   "source": [
    "import pandas as pd\n",
    "import h5py\n",
    "import numpy as np\n",
    "import os"
   ]
  },
  {
   "cell_type": "code",
   "execution_count": 4,
   "metadata": {},
   "outputs": [],
   "source": [
    "filename=\"./wse_data/storm0149_antecedant05P_event001.hdf\""
   ]
  },
  {
   "cell_type": "code",
   "execution_count": 5,
   "metadata": {},
   "outputs": [
    {
     "name": "stdout",
     "output_type": "stream",
     "text": [
      "HDF5\n"
     ]
    }
   ],
   "source": [
    "hf = open(filename, 'rb')\n",
    "bts = hf.read(4)\n",
    "if bts == b'\\x89HDF':\n",
    "   print('HDF5')\n",
    "elif bts == b'\\x0e\\x03\\x13\\x01':\n",
    "   print('HDF4')"
   ]
  },
  {
   "cell_type": "code",
   "execution_count": 6,
   "metadata": {},
   "outputs": [],
   "source": [
    "def printname(name):\n",
    "    print(name)"
   ]
  },
  {
   "cell_type": "code",
   "execution_count": 7,
   "metadata": {},
   "outputs": [
    {
     "name": "stdout",
     "output_type": "stream",
     "text": [
      "Geometry\n",
      "Geometry/2D Flow Areas\n",
      "Geometry/2D Flow Areas/AmiteMaurepas\n",
      "Geometry/2D Flow Areas/AmiteMaurepas/Cells Center Coordinate\n",
      "Results\n",
      "Results/Unsteady\n",
      "Results/Unsteady/Output\n",
      "Results/Unsteady/Output/Output Blocks\n",
      "Results/Unsteady/Output/Output Blocks/Base Output\n",
      "Results/Unsteady/Output/Output Blocks/Base Output/Unsteady Time Series\n",
      "Results/Unsteady/Output/Output Blocks/Base Output/Unsteady Time Series/2D Flow Areas\n",
      "Results/Unsteady/Output/Output Blocks/Base Output/Unsteady Time Series/2D Flow Areas/AmiteMaurepas\n",
      "Results/Unsteady/Output/Output Blocks/Base Output/Unsteady Time Series/2D Flow Areas/AmiteMaurepas/Max Values\n",
      "Results/Unsteady/Output/Output Blocks/Base Output/Unsteady Time Series/2D Flow Areas/AmiteMaurepas/Max Values/Cells Center Coordinate\n",
      "Results/Unsteady/Output/Output Blocks/Base Output/Unsteady Time Series/2D Flow Areas/AmiteMaurepas/Max Values/Water Surface\n",
      "Results/Unsteady/Output/Output Blocks/Base Output/Unsteady Time Series/2D Flow Areas/AmiteMaurepas/Time Step\n",
      "Results/Unsteady/Output/Output Blocks/Base Output/Unsteady Time Series/2D Flow Areas/AmiteMaurepas/Water Surface\n"
     ]
    }
   ],
   "source": [
    "with h5py.File(filename, \"r\") as f:\n",
    "    f.visit(printname)"
   ]
  },
  {
   "cell_type": "code",
   "execution_count": 8,
   "metadata": {},
   "outputs": [
    {
     "name": "stdout",
     "output_type": "stream",
     "text": [
      "<class 'h5py._hl.dataset.Dataset'>\n",
      "<class 'h5py._hl.dataset.Dataset'>\n"
     ]
    }
   ],
   "source": [
    "with h5py.File(filename, \"r\") as f:\n",
    "    print(type(f['Geometry/2D Flow Areas/AmiteMaurepas/Cells Center Coordinate']))\n",
    "    print(type(f['Results/Unsteady/Output/Output Blocks/Base Output/Unsteady Time Series/2D Flow Areas/AmiteMaurepas/Max Values/Water Surface']))"
   ]
  },
  {
   "cell_type": "code",
   "execution_count": 10,
   "metadata": {},
   "outputs": [
    {
     "name": "stderr",
     "output_type": "stream",
     "text": [
      "C:\\Users\\pkane\\AppData\\Local\\Temp\\ipykernel_9816\\3830216617.py:23: PerformanceWarning: DataFrame is highly fragmented.  This is usually the result of calling `frame.insert` many times, which has poor performance.  Consider joining all columns at once using pd.concat(axis=1) instead. To get a de-fragmented frame, use `newframe = frame.copy()`\n",
      "  wse_data[file] = wse\n"
     ]
    },
    {
     "name": "stdout",
     "output_type": "stream",
     "text": [
      "             x            y  storm0149_antecedant05P_event001.hdf  \\\n",
      "0  1657891.775  2833793.727                            145.670731   \n",
      "1  1654691.775  2832993.727                            134.039673   \n",
      "2  1655491.775  2832993.727                            135.997330   \n",
      "3  1656291.775  2832993.727                            131.485138   \n",
      "4  1657091.775  2832993.727                            134.902405   \n",
      "\n",
      "   storm0149_antecedant05P_event002.hdf  storm0149_antecedant05P_event003.hdf  \\\n",
      "0                            145.043655                            145.621399   \n",
      "1                            133.779617                            134.037872   \n",
      "2                            135.719864                            135.990234   \n",
      "3                            130.705536                            131.443802   \n",
      "4                            134.545715                            134.874527   \n",
      "\n",
      "   storm0149_antecedant05P_event004.hdf  storm0149_antecedant05P_event005.hdf  \\\n",
      "0                            146.057205                            145.301620   \n",
      "1                            134.222275                            133.848053   \n",
      "2                            136.190796                            135.806351   \n",
      "3                            131.770004                            131.182877   \n",
      "4                            135.137756                            134.668457   \n",
      "\n",
      "   storm0149_antecedant05P_event006.hdf  storm0149_antecedant05P_event007.hdf  \\\n",
      "0                            145.799927                            145.207001   \n",
      "1                            134.103775                            133.823807   \n",
      "2                            136.059326                            135.774384   \n",
      "3                            131.607422                            131.138199   \n",
      "4                            134.978760                            134.618195   \n",
      "\n",
      "   storm0149_antecedant05P_event008.hdf  ...  \\\n",
      "0                            146.413528  ...   \n",
      "1                            134.381454  ...   \n",
      "2                            136.366425  ...   \n",
      "3                            131.860626  ...   \n",
      "4                            135.348862  ...   \n",
      "\n",
      "   storm0149_antecedant05P_event091.hdf  storm0149_antecedant05P_event092.hdf  \\\n",
      "0                            146.002914                            145.951996   \n",
      "1                            134.204224                            134.169281   \n",
      "2                            136.168808                            136.132309   \n",
      "3                            131.756577                            131.717407   \n",
      "4                            135.109192                            135.068649   \n",
      "\n",
      "   storm0149_antecedant05P_event093.hdf  storm0149_antecedant05P_event094.hdf  \\\n",
      "0                            145.382767                            145.648727   \n",
      "1                            133.916565                            134.041901   \n",
      "2                            135.870087                            135.996063   \n",
      "3                            131.254288                            131.473022   \n",
      "4                            134.733109                            134.892609   \n",
      "\n",
      "   storm0149_antecedant05P_event095.hdf  storm0149_antecedant05P_event096.hdf  \\\n",
      "0                            145.569214                            146.492889   \n",
      "1                            133.988708                            134.426392   \n",
      "2                            135.946854                            136.398743   \n",
      "3                            131.377991                            131.884552   \n",
      "4                            134.836060                            135.401566   \n",
      "\n",
      "   storm0149_antecedant05P_event097.hdf  storm0149_antecedant05P_event098.hdf  \\\n",
      "0                            145.686691                            145.903793   \n",
      "1                            134.060333                            134.156052   \n",
      "2                            136.014206                            136.114990   \n",
      "3                            131.507751                            131.685089   \n",
      "4                            134.913147                            135.041626   \n",
      "\n",
      "   storm0149_antecedant05P_event099.hdf  storm0149_antecedant05P_event100.hdf  \n",
      "0                            145.945145                            145.522598  \n",
      "1                            134.172791                            133.961655  \n",
      "2                            136.134308                            135.921188  \n",
      "3                            131.719147                            131.339249  \n",
      "4                            135.068008                            134.808212  \n",
      "\n",
      "[5 rows x 102 columns]\n"
     ]
    }
   ],
   "source": [
    "data_path = \"./wse_data\"\n",
    "\n",
    "files_list = os.listdir(data_path)\n",
    "\n",
    "with h5py.File(data_path+\"/\"+files_list[0], \"r\") as f:\n",
    "    location = f['Results/Unsteady/Output/Output Blocks/Base Output/Unsteady Time Series/2D Flow Areas/AmiteMaurepas/Max Values/Cells Center Coordinate']\n",
    "    x = location[:,0]\n",
    "    y = location[:,1]\n",
    "\n",
    "wse_data = pd.DataFrame(list(zip(x, y)), columns=['x', 'y'])\n",
    "\n",
    "for file in files_list:\n",
    "    with h5py.File(data_path+\"/\"+file, \"r\") as f:\n",
    "        location = f['Results/Unsteady/Output/Output Blocks/Base Output/Unsteady Time Series/2D Flow Areas/AmiteMaurepas/Max Values/Cells Center Coordinate']\n",
    "        #print(location.shape)\n",
    "        #print(location.dtype)\n",
    "        #print(location[:,1])\n",
    "        #x = location[:,0]\n",
    "        #y = location[:,1]\n",
    "\n",
    "\n",
    "        wse = f['Results/Unsteady/Output/Output Blocks/Base Output/Unsteady Time Series/2D Flow Areas/AmiteMaurepas/Max Values/Water Surface'][:]\n",
    "        wse_data[file] = wse\n",
    "\n",
    "#print(wse_data.head())\n",
    "wse_data.to_csv('wse_data_test.csv', index=False)"
   ]
  }
 ],
 "metadata": {
  "kernelspec": {
   "display_name": "pytable-test",
   "language": "python",
   "name": "python3"
  },
  "language_info": {
   "codemirror_mode": {
    "name": "ipython",
    "version": 3
   },
   "file_extension": ".py",
   "mimetype": "text/x-python",
   "name": "python",
   "nbconvert_exporter": "python",
   "pygments_lexer": "ipython3",
   "version": "3.9.16"
  },
  "orig_nbformat": 4,
  "vscode": {
   "interpreter": {
    "hash": "14e16124cff70bbe796f9022c92d1dbcc12e073357865a295ebd5cfec60ea964"
   }
  }
 },
 "nbformat": 4,
 "nbformat_minor": 2
}
