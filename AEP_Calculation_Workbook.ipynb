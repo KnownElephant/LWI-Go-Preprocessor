{
 "cells": [
  {
   "cell_type": "code",
   "execution_count": 1,
   "metadata": {},
   "outputs": [],
   "source": [
    "import pandas as pd\n",
    "import numpy as np"
   ]
  },
  {
   "cell_type": "code",
   "execution_count": 8,
   "metadata": {},
   "outputs": [],
   "source": [
    "weights = pd.read_csv(\"LWI_fake_storm_weights.csv\", header=0)\n",
    "\n",
    "hdf_data = pd.read_csv(\"wse_data_test.csv\", header=0)\n",
    "\n",
    "\n",
    "wse_data = hdf_data.drop(columns=['x','y'])\n",
    "coordinates = hdf_data[['x','y']]\n"
   ]
  },
  {
   "cell_type": "code",
   "execution_count": 3,
   "metadata": {},
   "outputs": [],
   "source": [
    "#currently breaks if you give it a value that is too high\n",
    "def get_AEP_value(AEP, data):\n",
    "    exceedance_values = []\n",
    "    for p in AEP:\n",
    "        above = data[data.cdf>=p]\n",
    "        exceedance_values.append(above['wse'].iloc[0])\n",
    "    return exceedance_values\n",
    "\n",
    "#missing data exponentiation step\n",
    "def process_location_AEP(data, AEP, weights):\n",
    "    point_data = weights\n",
    "    point_data['wse'] = data.tolist()\n",
    "    point_data.sort_values(by=['wse'], inplace=True)\n",
    "    point_data['cdf'] = np.cumsum(point_data['P'])\n",
    "    return get_AEP_value(AEP, point_data)\n",
    "    \n",
    "    "
   ]
  },
  {
   "cell_type": "code",
   "execution_count": 11,
   "metadata": {},
   "outputs": [
    {
     "name": "stdout",
     "output_type": "stream",
     "text": [
      "                0           1\n",
      "0      145.818880  146.174820\n",
      "1      134.125920  134.273480\n",
      "2      136.077510  136.247250\n",
      "3      131.628370  131.797840\n",
      "4      134.993200  135.201920\n",
      "...           ...         ...\n",
      "82235   20.021402   20.021402\n",
      "82236   22.314450   22.314450\n",
      "82237   13.563731   13.563731\n",
      "82238   19.583364   19.583364\n",
      "82239   12.375000   12.375000\n",
      "\n",
      "[82240 rows x 2 columns]\n"
     ]
    }
   ],
   "source": [
    "AEP = [0.5, 0.74]\n",
    "AEP_data_2 = wse_data.apply(process_location_AEP, axis=1, args=(AEP, weights))\n",
    "print(pd.DataFrame(AEP_data_2.to_list()))\n",
    "\n"
   ]
  }
 ],
 "metadata": {
  "kernelspec": {
   "display_name": "pytable-test",
   "language": "python",
   "name": "python3"
  },
  "language_info": {
   "codemirror_mode": {
    "name": "ipython",
    "version": 3
   },
   "file_extension": ".py",
   "mimetype": "text/x-python",
   "name": "python",
   "nbconvert_exporter": "python",
   "pygments_lexer": "ipython3",
   "version": "3.9.16"
  },
  "orig_nbformat": 4,
  "vscode": {
   "interpreter": {
    "hash": "14e16124cff70bbe796f9022c92d1dbcc12e073357865a295ebd5cfec60ea964"
   }
  }
 },
 "nbformat": 4,
 "nbformat_minor": 2
}
