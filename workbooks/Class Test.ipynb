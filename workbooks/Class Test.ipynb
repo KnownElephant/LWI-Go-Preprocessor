{
 "cells": [
  {
   "cell_type": "code",
   "execution_count": 1,
   "metadata": {},
   "outputs": [],
   "source": [
    "from hecras.hecgeometry import HecGeometry\n",
    "from wse_extract import WSE_extract\n",
    "from aep_calc import AEP_calc\n",
    "from aep_rasterize import AEP_rasterize\n"
   ]
  },
  {
   "cell_type": "code",
   "execution_count": 2,
   "metadata": {},
   "outputs": [],
   "source": [
    "geometry_filename = \"Amite_20200114.g01.hdf\"\n",
    "geometry = HecGeometry(geometry_filename)"
   ]
  },
  {
   "cell_type": "code",
   "execution_count": 3,
   "metadata": {},
   "outputs": [
    {
     "name": "stdout",
     "output_type": "stream",
     "text": [
      "Extracting for AmiteMaurepas\n",
      "Getting AEP\n",
      "Constructing 0.5 data for  AmiteMaurepas\n",
      "Constructiong z data for 0.5\n",
      "Writing raw results raster for 0.5\n",
      "Constructing 0.74 data for  AmiteMaurepas\n",
      "Constructiong z data for 0.74\n",
      "Writing raw results raster for 0.74\n"
     ]
    }
   ],
   "source": [
    "resolution = 0.0002\n",
    "bounding_box = [-91.5, 30.5, -90.25, 29.8]\n",
    "\n",
    "test_AEP_rasterize = AEP_rasterize(geometry_filename, \"./wse_data\", \"LWI_fake_storm_weights.csv\", resolution, bounding_box)\n",
    "#test_AEP_rasterize_output = test_AEP_rasterize.to_AEP_raster([0.5, 0.74])\n",
    "test_AEP_rasterize.to_AEP_raster([0.5, 0.74])"
   ]
  },
  {
   "cell_type": "code",
   "execution_count": 12,
   "metadata": {},
   "outputs": [
    {
     "data": {
      "text/plain": [
       "array([142.98016866, 141.18807983, 140.40603638, ...,  11.20647812,\n",
       "        14.03125191,  11.4818325 ])"
      ]
     },
     "execution_count": 12,
     "metadata": {},
     "output_type": "execute_result"
    }
   ],
   "source": [
    "geometry.flow_areas()[0].cell_array_to_facepoints((test_AEP_rasterize_output[0].iloc[:,0].to_numpy()))\n",
    "#(test_AEP_rasterize_output[0].iloc[:,0].to_numpy())"
   ]
  },
  {
   "cell_type": "code",
   "execution_count": 11,
   "metadata": {},
   "outputs": [
    {
     "name": "stdout",
     "output_type": "stream",
     "text": [
      "0\n",
      "1\n"
     ]
    }
   ],
   "source": [
    "for i in enumerate([0.5, 0.74]):\n",
    "    print(i[0])"
   ]
  }
 ],
 "metadata": {
  "kernelspec": {
   "display_name": "pytable-test",
   "language": "python",
   "name": "python3"
  },
  "language_info": {
   "codemirror_mode": {
    "name": "ipython",
    "version": 3
   },
   "file_extension": ".py",
   "mimetype": "text/x-python",
   "name": "python",
   "nbconvert_exporter": "python",
   "pygments_lexer": "ipython3",
   "version": "3.9.16"
  },
  "orig_nbformat": 4
 },
 "nbformat": 4,
 "nbformat_minor": 2
}
